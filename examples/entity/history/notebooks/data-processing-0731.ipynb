{
 "cells": [
  {
   "cell_type": "code",
   "execution_count": 6,
   "metadata": {},
   "outputs": [],
   "source": [
    "import pandas as pd"
   ]
  },
  {
   "cell_type": "code",
   "execution_count": 7,
   "metadata": {},
   "outputs": [],
   "source": [
    "df_train = pd.read_csv(\"data/train_sorted.csv\")\n",
    "\n",
    "df_test = pd.read_csv(\"data/test_sorted.csv\")"
   ]
  },
  {
   "cell_type": "code",
   "execution_count": 50,
   "metadata": {},
   "outputs": [
    {
     "data": {
      "text/html": [
       "<div>\n",
       "<style scoped>\n",
       "    .dataframe tbody tr th:only-of-type {\n",
       "        vertical-align: middle;\n",
       "    }\n",
       "\n",
       "    .dataframe tbody tr th {\n",
       "        vertical-align: top;\n",
       "    }\n",
       "\n",
       "    .dataframe thead th {\n",
       "        text-align: right;\n",
       "    }\n",
       "</style>\n",
       "<table border=\"1\" class=\"dataframe\">\n",
       "  <thead>\n",
       "    <tr style=\"text-align: right;\">\n",
       "      <th></th>\n",
       "      <th>Unnamed: 0</th>\n",
       "      <th>Unnamed: 0.1</th>\n",
       "      <th>Question</th>\n",
       "      <th>Mention_label</th>\n",
       "      <th>Features</th>\n",
       "      <th>Label</th>\n",
       "      <th>Mention</th>\n",
       "    </tr>\n",
       "  </thead>\n",
       "  <tbody>\n",
       "    <tr>\n",
       "      <th>0</th>\n",
       "      <td>19034</td>\n",
       "      <td>19034</td>\n",
       "      <td>Does the new Battlestar Galactica series have ...</td>\n",
       "      <td>one;World War I</td>\n",
       "      <td>[0.4747474789619446, 0.0, 0.09090909090909094,...</td>\n",
       "      <td>0</td>\n",
       "      <td>one</td>\n",
       "    </tr>\n",
       "    <tr>\n",
       "      <th>1</th>\n",
       "      <td>19035</td>\n",
       "      <td>19035</td>\n",
       "      <td>Does the new Battlestar Galactica series have ...</td>\n",
       "      <td>one;Formula One</td>\n",
       "      <td>[0.4747474789619446, 0.5, 0.2727272727272727, ...</td>\n",
       "      <td>0</td>\n",
       "      <td>one</td>\n",
       "    </tr>\n",
       "    <tr>\n",
       "      <th>2</th>\n",
       "      <td>19036</td>\n",
       "      <td>19036</td>\n",
       "      <td>Does the new Battlestar Galactica series have ...</td>\n",
       "      <td>one;Football League First Division</td>\n",
       "      <td>[0.5777778029441833, 0.0, 0.06666666666666665,...</td>\n",
       "      <td>0</td>\n",
       "      <td>one</td>\n",
       "    </tr>\n",
       "    <tr>\n",
       "      <th>3</th>\n",
       "      <td>19037</td>\n",
       "      <td>19037</td>\n",
       "      <td>Does the new Battlestar Galactica series have ...</td>\n",
       "      <td>one;Americas</td>\n",
       "      <td>[0.4861111044883728, 0.0, 0.125, 0.25849785086...</td>\n",
       "      <td>0</td>\n",
       "      <td>one</td>\n",
       "    </tr>\n",
       "    <tr>\n",
       "      <th>4</th>\n",
       "      <td>19038</td>\n",
       "      <td>19038</td>\n",
       "      <td>Does the new Battlestar Galactica series have ...</td>\n",
       "      <td>one;BBC One</td>\n",
       "      <td>[0.0, 0.5, 0.4285714285714286, 0.5118898259207...</td>\n",
       "      <td>0</td>\n",
       "      <td>one</td>\n",
       "    </tr>\n",
       "    <tr>\n",
       "      <th>...</th>\n",
       "      <td>...</td>\n",
       "      <td>...</td>\n",
       "      <td>...</td>\n",
       "      <td>...</td>\n",
       "      <td>...</td>\n",
       "      <td>...</td>\n",
       "      <td>...</td>\n",
       "    </tr>\n",
       "    <tr>\n",
       "      <th>30064</th>\n",
       "      <td>15615</td>\n",
       "      <td>15615</td>\n",
       "      <td>Who wrote The Hunger Games?</td>\n",
       "      <td>hunger games;The Hunger Games: Songs from Dist...</td>\n",
       "      <td>[0.6062091588973999, 0.1, 0.23529411764705888,...</td>\n",
       "      <td>0</td>\n",
       "      <td>hunger games</td>\n",
       "    </tr>\n",
       "    <tr>\n",
       "      <th>30065</th>\n",
       "      <td>15616</td>\n",
       "      <td>15616</td>\n",
       "      <td>Who wrote The Hunger Games?</td>\n",
       "      <td>hunger games;List of The Hunger Games characte...</td>\n",
       "      <td>[0.5727272629737854, 0.2222222222222222, 0.218...</td>\n",
       "      <td>0</td>\n",
       "      <td>hunger games</td>\n",
       "    </tr>\n",
       "    <tr>\n",
       "      <th>30066</th>\n",
       "      <td>15617</td>\n",
       "      <td>15617</td>\n",
       "      <td>Who wrote The Hunger Games?</td>\n",
       "      <td>hunger games;The Hunger Games (film) The Hunge...</td>\n",
       "      <td>[0.5825722813606262, 0.2, 0.1643835616438356, ...</td>\n",
       "      <td>0</td>\n",
       "      <td>hunger games</td>\n",
       "    </tr>\n",
       "    <tr>\n",
       "      <th>30067</th>\n",
       "      <td>15618</td>\n",
       "      <td>15618</td>\n",
       "      <td>Who wrote The Hunger Games?</td>\n",
       "      <td>hunger games;List of The Hunger Games characte...</td>\n",
       "      <td>[0.5754716992378235, 0.2222222222222222, 0.226...</td>\n",
       "      <td>0</td>\n",
       "      <td>hunger games</td>\n",
       "    </tr>\n",
       "    <tr>\n",
       "      <th>30068</th>\n",
       "      <td>15610</td>\n",
       "      <td>15610</td>\n",
       "      <td>Who wrote The Hunger Games?</td>\n",
       "      <td>hunger games;The Hunger Games</td>\n",
       "      <td>[0.7777777910232544, 0.6666666666666666, 0.75,...</td>\n",
       "      <td>1</td>\n",
       "      <td>hunger games</td>\n",
       "    </tr>\n",
       "  </tbody>\n",
       "</table>\n",
       "<p>30069 rows × 7 columns</p>\n",
       "</div>"
      ],
      "text/plain": [
       "       Unnamed: 0  Unnamed: 0.1  \\\n",
       "0           19034         19034   \n",
       "1           19035         19035   \n",
       "2           19036         19036   \n",
       "3           19037         19037   \n",
       "4           19038         19038   \n",
       "...           ...           ...   \n",
       "30064       15615         15615   \n",
       "30065       15616         15616   \n",
       "30066       15617         15617   \n",
       "30067       15618         15618   \n",
       "30068       15610         15610   \n",
       "\n",
       "                                                Question  \\\n",
       "0      Does the new Battlestar Galactica series have ...   \n",
       "1      Does the new Battlestar Galactica series have ...   \n",
       "2      Does the new Battlestar Galactica series have ...   \n",
       "3      Does the new Battlestar Galactica series have ...   \n",
       "4      Does the new Battlestar Galactica series have ...   \n",
       "...                                                  ...   \n",
       "30064                        Who wrote The Hunger Games?   \n",
       "30065                        Who wrote The Hunger Games?   \n",
       "30066                        Who wrote The Hunger Games?   \n",
       "30067                        Who wrote The Hunger Games?   \n",
       "30068                        Who wrote The Hunger Games?   \n",
       "\n",
       "                                           Mention_label  \\\n",
       "0                                        one;World War I   \n",
       "1                                        one;Formula One   \n",
       "2                     one;Football League First Division   \n",
       "3                                           one;Americas   \n",
       "4                                            one;BBC One   \n",
       "...                                                  ...   \n",
       "30064  hunger games;The Hunger Games: Songs from Dist...   \n",
       "30065  hunger games;List of The Hunger Games characte...   \n",
       "30066  hunger games;The Hunger Games (film) The Hunge...   \n",
       "30067  hunger games;List of The Hunger Games characte...   \n",
       "30068                      hunger games;The Hunger Games   \n",
       "\n",
       "                                                Features  Label       Mention  \n",
       "0      [0.4747474789619446, 0.0, 0.09090909090909094,...      0           one  \n",
       "1      [0.4747474789619446, 0.5, 0.2727272727272727, ...      0           one  \n",
       "2      [0.5777778029441833, 0.0, 0.06666666666666665,...      0           one  \n",
       "3      [0.4861111044883728, 0.0, 0.125, 0.25849785086...      0           one  \n",
       "4      [0.0, 0.5, 0.4285714285714286, 0.5118898259207...      0           one  \n",
       "...                                                  ...    ...           ...  \n",
       "30064  [0.6062091588973999, 0.1, 0.23529411764705888,...      0  hunger games  \n",
       "30065  [0.5727272629737854, 0.2222222222222222, 0.218...      0  hunger games  \n",
       "30066  [0.5825722813606262, 0.2, 0.1643835616438356, ...      0  hunger games  \n",
       "30067  [0.5754716992378235, 0.2222222222222222, 0.226...      0  hunger games  \n",
       "30068  [0.7777777910232544, 0.6666666666666666, 0.75,...      1  hunger games  \n",
       "\n",
       "[30069 rows x 7 columns]"
      ]
     },
     "execution_count": 50,
     "metadata": {},
     "output_type": "execute_result"
    }
   ],
   "source": [
    "df_train"
   ]
  },
  {
   "cell_type": "code",
   "execution_count": 8,
   "metadata": {},
   "outputs": [
    {
     "data": {
      "text/plain": [
       "206"
      ]
     },
     "execution_count": 8,
     "metadata": {},
     "output_type": "execute_result"
    }
   ],
   "source": [
    "len(df_train.Question.unique())"
   ]
  },
  {
   "cell_type": "code",
   "execution_count": 9,
   "metadata": {},
   "outputs": [
    {
     "data": {
      "text/html": [
       "<div>\n",
       "<style scoped>\n",
       "    .dataframe tbody tr th:only-of-type {\n",
       "        vertical-align: middle;\n",
       "    }\n",
       "\n",
       "    .dataframe tbody tr th {\n",
       "        vertical-align: top;\n",
       "    }\n",
       "\n",
       "    .dataframe thead th {\n",
       "        text-align: right;\n",
       "    }\n",
       "</style>\n",
       "<table border=\"1\" class=\"dataframe\">\n",
       "  <thead>\n",
       "    <tr style=\"text-align: right;\">\n",
       "      <th></th>\n",
       "      <th>Unnamed: 0</th>\n",
       "      <th>Unnamed: 0.1</th>\n",
       "      <th>Question</th>\n",
       "      <th>Mention_label</th>\n",
       "      <th>Features</th>\n",
       "      <th>Label</th>\n",
       "      <th>Mention</th>\n",
       "      <th>QuestionMention</th>\n",
       "    </tr>\n",
       "  </thead>\n",
       "  <tbody>\n",
       "    <tr>\n",
       "      <th>0</th>\n",
       "      <td>19034</td>\n",
       "      <td>19034</td>\n",
       "      <td>Does the new Battlestar Galactica series have ...</td>\n",
       "      <td>one;World War I</td>\n",
       "      <td>[0.4747474789619446, 0.0, 0.09090909090909094,...</td>\n",
       "      <td>0</td>\n",
       "      <td>one</td>\n",
       "      <td>Does the new Battlestar Galactica series have ...</td>\n",
       "    </tr>\n",
       "    <tr>\n",
       "      <th>1</th>\n",
       "      <td>19035</td>\n",
       "      <td>19035</td>\n",
       "      <td>Does the new Battlestar Galactica series have ...</td>\n",
       "      <td>one;Formula One</td>\n",
       "      <td>[0.4747474789619446, 0.5, 0.2727272727272727, ...</td>\n",
       "      <td>0</td>\n",
       "      <td>one</td>\n",
       "      <td>Does the new Battlestar Galactica series have ...</td>\n",
       "    </tr>\n",
       "    <tr>\n",
       "      <th>2</th>\n",
       "      <td>19036</td>\n",
       "      <td>19036</td>\n",
       "      <td>Does the new Battlestar Galactica series have ...</td>\n",
       "      <td>one;Football League First Division</td>\n",
       "      <td>[0.5777778029441833, 0.0, 0.06666666666666665,...</td>\n",
       "      <td>0</td>\n",
       "      <td>one</td>\n",
       "      <td>Does the new Battlestar Galactica series have ...</td>\n",
       "    </tr>\n",
       "    <tr>\n",
       "      <th>3</th>\n",
       "      <td>19037</td>\n",
       "      <td>19037</td>\n",
       "      <td>Does the new Battlestar Galactica series have ...</td>\n",
       "      <td>one;Americas</td>\n",
       "      <td>[0.4861111044883728, 0.0, 0.125, 0.25849785086...</td>\n",
       "      <td>0</td>\n",
       "      <td>one</td>\n",
       "      <td>Does the new Battlestar Galactica series have ...</td>\n",
       "    </tr>\n",
       "    <tr>\n",
       "      <th>4</th>\n",
       "      <td>19038</td>\n",
       "      <td>19038</td>\n",
       "      <td>Does the new Battlestar Galactica series have ...</td>\n",
       "      <td>one;BBC One</td>\n",
       "      <td>[0.0, 0.5, 0.4285714285714286, 0.5118898259207...</td>\n",
       "      <td>0</td>\n",
       "      <td>one</td>\n",
       "      <td>Does the new Battlestar Galactica series have ...</td>\n",
       "    </tr>\n",
       "    <tr>\n",
       "      <th>...</th>\n",
       "      <td>...</td>\n",
       "      <td>...</td>\n",
       "      <td>...</td>\n",
       "      <td>...</td>\n",
       "      <td>...</td>\n",
       "      <td>...</td>\n",
       "      <td>...</td>\n",
       "      <td>...</td>\n",
       "    </tr>\n",
       "    <tr>\n",
       "      <th>30064</th>\n",
       "      <td>15615</td>\n",
       "      <td>15615</td>\n",
       "      <td>Who wrote The Hunger Games?</td>\n",
       "      <td>hunger games;The Hunger Games: Songs from Dist...</td>\n",
       "      <td>[0.6062091588973999, 0.1, 0.23529411764705888,...</td>\n",
       "      <td>0</td>\n",
       "      <td>hunger games</td>\n",
       "      <td>Who wrote The Hunger Games?hunger games</td>\n",
       "    </tr>\n",
       "    <tr>\n",
       "      <th>30065</th>\n",
       "      <td>15616</td>\n",
       "      <td>15616</td>\n",
       "      <td>Who wrote The Hunger Games?</td>\n",
       "      <td>hunger games;List of The Hunger Games characte...</td>\n",
       "      <td>[0.5727272629737854, 0.2222222222222222, 0.218...</td>\n",
       "      <td>0</td>\n",
       "      <td>hunger games</td>\n",
       "      <td>Who wrote The Hunger Games?hunger games</td>\n",
       "    </tr>\n",
       "    <tr>\n",
       "      <th>30066</th>\n",
       "      <td>15617</td>\n",
       "      <td>15617</td>\n",
       "      <td>Who wrote The Hunger Games?</td>\n",
       "      <td>hunger games;The Hunger Games (film) The Hunge...</td>\n",
       "      <td>[0.5825722813606262, 0.2, 0.1643835616438356, ...</td>\n",
       "      <td>0</td>\n",
       "      <td>hunger games</td>\n",
       "      <td>Who wrote The Hunger Games?hunger games</td>\n",
       "    </tr>\n",
       "    <tr>\n",
       "      <th>30067</th>\n",
       "      <td>15618</td>\n",
       "      <td>15618</td>\n",
       "      <td>Who wrote The Hunger Games?</td>\n",
       "      <td>hunger games;List of The Hunger Games characte...</td>\n",
       "      <td>[0.5754716992378235, 0.2222222222222222, 0.226...</td>\n",
       "      <td>0</td>\n",
       "      <td>hunger games</td>\n",
       "      <td>Who wrote The Hunger Games?hunger games</td>\n",
       "    </tr>\n",
       "    <tr>\n",
       "      <th>30068</th>\n",
       "      <td>15610</td>\n",
       "      <td>15610</td>\n",
       "      <td>Who wrote The Hunger Games?</td>\n",
       "      <td>hunger games;The Hunger Games</td>\n",
       "      <td>[0.7777777910232544, 0.6666666666666666, 0.75,...</td>\n",
       "      <td>1</td>\n",
       "      <td>hunger games</td>\n",
       "      <td>Who wrote The Hunger Games?hunger games</td>\n",
       "    </tr>\n",
       "  </tbody>\n",
       "</table>\n",
       "<p>30069 rows × 8 columns</p>\n",
       "</div>"
      ],
      "text/plain": [
       "       Unnamed: 0  Unnamed: 0.1  \\\n",
       "0           19034         19034   \n",
       "1           19035         19035   \n",
       "2           19036         19036   \n",
       "3           19037         19037   \n",
       "4           19038         19038   \n",
       "...           ...           ...   \n",
       "30064       15615         15615   \n",
       "30065       15616         15616   \n",
       "30066       15617         15617   \n",
       "30067       15618         15618   \n",
       "30068       15610         15610   \n",
       "\n",
       "                                                Question  \\\n",
       "0      Does the new Battlestar Galactica series have ...   \n",
       "1      Does the new Battlestar Galactica series have ...   \n",
       "2      Does the new Battlestar Galactica series have ...   \n",
       "3      Does the new Battlestar Galactica series have ...   \n",
       "4      Does the new Battlestar Galactica series have ...   \n",
       "...                                                  ...   \n",
       "30064                        Who wrote The Hunger Games?   \n",
       "30065                        Who wrote The Hunger Games?   \n",
       "30066                        Who wrote The Hunger Games?   \n",
       "30067                        Who wrote The Hunger Games?   \n",
       "30068                        Who wrote The Hunger Games?   \n",
       "\n",
       "                                           Mention_label  \\\n",
       "0                                        one;World War I   \n",
       "1                                        one;Formula One   \n",
       "2                     one;Football League First Division   \n",
       "3                                           one;Americas   \n",
       "4                                            one;BBC One   \n",
       "...                                                  ...   \n",
       "30064  hunger games;The Hunger Games: Songs from Dist...   \n",
       "30065  hunger games;List of The Hunger Games characte...   \n",
       "30066  hunger games;The Hunger Games (film) The Hunge...   \n",
       "30067  hunger games;List of The Hunger Games characte...   \n",
       "30068                      hunger games;The Hunger Games   \n",
       "\n",
       "                                                Features  Label       Mention  \\\n",
       "0      [0.4747474789619446, 0.0, 0.09090909090909094,...      0           one   \n",
       "1      [0.4747474789619446, 0.5, 0.2727272727272727, ...      0           one   \n",
       "2      [0.5777778029441833, 0.0, 0.06666666666666665,...      0           one   \n",
       "3      [0.4861111044883728, 0.0, 0.125, 0.25849785086...      0           one   \n",
       "4      [0.0, 0.5, 0.4285714285714286, 0.5118898259207...      0           one   \n",
       "...                                                  ...    ...           ...   \n",
       "30064  [0.6062091588973999, 0.1, 0.23529411764705888,...      0  hunger games   \n",
       "30065  [0.5727272629737854, 0.2222222222222222, 0.218...      0  hunger games   \n",
       "30066  [0.5825722813606262, 0.2, 0.1643835616438356, ...      0  hunger games   \n",
       "30067  [0.5754716992378235, 0.2222222222222222, 0.226...      0  hunger games   \n",
       "30068  [0.7777777910232544, 0.6666666666666666, 0.75,...      1  hunger games   \n",
       "\n",
       "                                         QuestionMention  \n",
       "0      Does the new Battlestar Galactica series have ...  \n",
       "1      Does the new Battlestar Galactica series have ...  \n",
       "2      Does the new Battlestar Galactica series have ...  \n",
       "3      Does the new Battlestar Galactica series have ...  \n",
       "4      Does the new Battlestar Galactica series have ...  \n",
       "...                                                  ...  \n",
       "30064            Who wrote The Hunger Games?hunger games  \n",
       "30065            Who wrote The Hunger Games?hunger games  \n",
       "30066            Who wrote The Hunger Games?hunger games  \n",
       "30067            Who wrote The Hunger Games?hunger games  \n",
       "30068            Who wrote The Hunger Games?hunger games  \n",
       "\n",
       "[30069 rows x 8 columns]"
      ]
     },
     "execution_count": 9,
     "metadata": {},
     "output_type": "execute_result"
    }
   ],
   "source": [
    "df_train[\"QuestionMention\"] = df_train[\"Question\"] + df_train[\"Mention\"]\n",
    "df_train"
   ]
  },
  {
   "cell_type": "code",
   "execution_count": 54,
   "metadata": {},
   "outputs": [
    {
     "name": "stdout",
     "output_type": "stream",
     "text": [
      "What are the top-10 action role-playing video games according to IGN?ign\n",
      "What was Brazil's lowest rank in the FIFA World Ranking?fifa world ranking\n",
      "Give me all Apollo 14 astronauts.apollo 14\n",
      "Who is the manager of Real Madrid?real madrid\n",
      "Give me the Apollo 14 astronauts.apollo 14\n",
      "Is the wife of president Obama called Michelle?michelle\n",
      "What are the specialities of the UNC Health Care?unc health care\n",
      "Which U.S. states possess gold minerals?u.s.\n",
      "Give me all world heritage sites designated within the past two years.world heritage\n",
      "Where did Hillel Slovak die?hillel slovak\n",
      "Who developed Slack?slack\n",
      "What is the total amount of men and women serving in the FDNY?what\n",
      "Who was the pope that founded the Vatican Television?vatican television\n",
      "Who played Gus Fring in Breaking Bad?gus fring\n",
      "Which awards did Douglas Hofstadter win?douglas hofstadter\n",
      "Which Greek parties are pro-European?european\n",
      "Is Darth Vader Lukes father?lukes\n",
      "When did Latvia join the EU?eu\n",
      "Give me all types of eating disorders.eating disorders\n",
      "Which music albums contain the song Last Christmas?last christmas\n",
      "Which weapons did Heckler & Koch develop?heckler & koch;Heckler &amp\n",
      "when was the founding date of french fifth republic?french\n",
      "Which state of the USA has the highest population density?usa\n",
      "In which U.S. state is Mount McKinley located?u.s.\n",
      "Which beer originated in Ireland?ireland\n",
      "Who was the first King of England?england\n",
      "What is the net income of Apple?apple\n",
      "Where was JFK assassinated?jfk\n",
      "Which state of the United States of America has the highest density?united states of america\n",
      "Who is the current federal minister of finance in Germany?germany\n",
      "Was the wife of president Lincoln called Mary?mary\n",
      "Who is 8th president of US?us\n",
      "What is the second highest mountain on Earth?earth\n",
      "Which Greek parties are pro-European?pro\n",
      "In which programming language is GIMP written?programming language is gimp\n",
      "Show me all English Gothic buildings in Kent.english\n",
      "Who played Agent Smith in Matrix?agent smith\n",
      "What is the alma mater of the chancellor of Germany Angela Merkel?germany\n",
      "Which U.S. states are in the same timezone as Utah?u.s.\n",
      "Give me all actors called Baldwin.baldwin\n",
      "Was Marc Chagall a jew?jew\n",
      "What other books have been written by the author of The Fault in Our Stars?of the fault in our stars\n",
      "Which U.S. states are in the same time zone as Utah?u.s.\n",
      "What is the highest mountain in Saxony Germany?germany\n"
     ]
    }
   ],
   "source": [
    "only_negative_pairs = []\n",
    "only_one_instance_no_negatives = []\n",
    "for unique_qm_pair in set(df_train.QuestionMention):\n",
    "    df_ = df_train[df_train.QuestionMention == unique_qm_pair]\n",
    "    if df_.Label.sum() == 1 and df_.shape[0] == 1:\n",
    "        print(unique_qm_pair)\n",
    "        only_one_instance_no_negatives.append(unique_qm_pair)\n",
    "    if df_.Label.sum() == 0:\n",
    "        print(unique_qm_pair)\n",
    "        only_negative_pairs.append(unique_qm_pair)\n",
    " "
   ]
  },
  {
   "cell_type": "code",
   "execution_count": 33,
   "metadata": {},
   "outputs": [],
   "source": [
    "df_filter_negatives = df_train[~df_train.QuestionMention.isin(only_negative_pairs)]"
   ]
  },
  {
   "cell_type": "code",
   "execution_count": 40,
   "metadata": {},
   "outputs": [
    {
     "data": {
      "text/plain": [
       "(30069, 8)"
      ]
     },
     "execution_count": 40,
     "metadata": {},
     "output_type": "execute_result"
    }
   ],
   "source": [
    "df_train.shape"
   ]
  },
  {
   "cell_type": "code",
   "execution_count": 39,
   "metadata": {},
   "outputs": [
    {
     "data": {
      "text/plain": [
       "(22471, 8)"
      ]
     },
     "execution_count": 39,
     "metadata": {},
     "output_type": "execute_result"
    }
   ],
   "source": [
    "df_filter_negatives.shape"
   ]
  },
  {
   "cell_type": "code",
   "execution_count": 55,
   "metadata": {},
   "outputs": [],
   "source": [
    "df_filter_negatives1 = df_filter_negatives[~df_filter_negatives.QuestionMention.isin(only_one_instance_no_negatives)]"
   ]
  },
  {
   "cell_type": "code",
   "execution_count": 56,
   "metadata": {},
   "outputs": [
    {
     "data": {
      "text/plain": [
       "(22462, 8)"
      ]
     },
     "execution_count": 56,
     "metadata": {},
     "output_type": "execute_result"
    }
   ],
   "source": [
    "df_filter_negatives1.shape"
   ]
  },
  {
   "cell_type": "code",
   "execution_count": 47,
   "metadata": {},
   "outputs": [],
   "source": [
    "df_filter_negatives1 = df_filter_negatives1.sort_values(by=['QuestionMention', 'Label'])"
   ]
  },
  {
   "cell_type": "code",
   "execution_count": 57,
   "metadata": {},
   "outputs": [],
   "source": [
    "df_filter_negatives1.to_csv(\"data/train_filtered_sorted.csv\", index=False)"
   ]
  },
  {
   "cell_type": "code",
   "execution_count": 62,
   "metadata": {},
   "outputs": [
    {
     "data": {
      "text/plain": [
       "179"
      ]
     },
     "execution_count": 62,
     "metadata": {},
     "output_type": "execute_result"
    }
   ],
   "source": [
    "len(set(df_filter_negatives1.Question))"
   ]
  },
  {
   "cell_type": "code",
   "execution_count": 68,
   "metadata": {},
   "outputs": [
    {
     "data": {
      "text/plain": [
       "143.20000000000002"
      ]
     },
     "execution_count": 68,
     "metadata": {},
     "output_type": "execute_result"
    }
   ],
   "source": [
    "179 * 0.8"
   ]
  },
  {
   "cell_type": "code",
   "execution_count": 12,
   "metadata": {},
   "outputs": [],
   "source": [
    "df_test\n",
    "df_test['QuestionMention'] = df_test.Question + df_test.Mention"
   ]
  },
  {
   "cell_type": "code",
   "execution_count": 14,
   "metadata": {},
   "outputs": [
    {
     "name": "stdout",
     "output_type": "stream",
     "text": [
      "With how many countries Iran has borders?iran\n",
      "Who was the successor of John F. Kennedy?john f. kennedy\n",
      "Who is the host of the BBC Wildlife Specials?bbc\n",
      "Who was John F. Kennedy's vice president?john f. kennedy\n",
      "Show me all books in Asimov's Foundation series.asimov 's foundation\n",
      "In which country is the Limerick Lake?limerick lake\n",
      "How many states are in Mexico?mexico\n",
      "Who was the wife of U.S. president Lincoln?u.s.\n",
      "Who is the host of the BBC Wildlife Specials?wildlife specials\n",
      "Which books by Kerouac were published by Viking Press?viking press\n",
      "How much did the Lego Movie cost?lego movie\n",
      "How tall is Amazon Eve?amazon eve\n",
      "In which city are the headquarters of the United Nations?united nations\n",
      "In which military conflicts did Lawrence of Arabia participate?lawrence of arabia\n",
      "Is there a video game called Battle Chess?battle chess\n",
      "Which country does the creator of Miffy come from?miffy\n",
      "How high is the Yokohama Marine Tower?yokohama marine tower\n",
      "In which city does the Chile Route 68 end?chile\n",
      "Do Prince Harry and Prince William have the same parents?harry\n",
      "Is Michelle Obama the wife of Barack Obama?michelle obama\n",
      "In which city did John F. Kennedy die?john f. kennedy\n",
      "How tall is Claudia Schiffer?claudia schiffer\n",
      "Was U.S. president Jackson involved in a war?u.s.\n",
      "Who wrote the Game of Thrones theme?game of thrones\n",
      "Does Breaking Bad have more episodes than Game of Thrones?game of thrones\n",
      "Give me all video games published by Mean Hamster Software.mean hamster software\n",
      "Does Neymar play for Real Madrid?real madrid\n",
      "What country is Sitecore from?sitecore\n",
      "Who is the Formula 1 race driver with the most races?formula 1\n",
      "Who are the writers of the Wall album of Pink Floyd?pink floyd\n"
     ]
    }
   ],
   "source": [
    "only_negative_pairs = []\n",
    "only_one_instance_no_negatives = []\n",
    "for unique_qm_pair in set(df_test.QuestionMention):\n",
    "    df_ = df_test[df_test.QuestionMention == unique_qm_pair]\n",
    "    if df_.Label.sum() == 1 and df_.shape[0] == 1:\n",
    "        print(unique_qm_pair)\n",
    "        only_one_instance_no_negatives.append(unique_qm_pair)\n",
    "    if df_.Label.sum() == 0:\n",
    "        print(unique_qm_pair)\n",
    "        only_negative_pairs.append(unique_qm_pair)\n",
    " "
   ]
  },
  {
   "cell_type": "code",
   "execution_count": null,
   "metadata": {},
   "outputs": [],
   "source": []
  },
  {
   "cell_type": "code",
   "execution_count": 15,
   "metadata": {},
   "outputs": [
    {
     "data": {
      "text/plain": [
       "(30069, 8)"
      ]
     },
     "execution_count": 15,
     "metadata": {},
     "output_type": "execute_result"
    }
   ],
   "source": [
    "df_train.shape"
   ]
  },
  {
   "cell_type": "code",
   "execution_count": 16,
   "metadata": {},
   "outputs": [
    {
     "data": {
      "text/plain": [
       "(17808, 8)"
      ]
     },
     "execution_count": 16,
     "metadata": {},
     "output_type": "execute_result"
    }
   ],
   "source": [
    "df_test.shape"
   ]
  },
  {
   "cell_type": "code",
   "execution_count": null,
   "metadata": {},
   "outputs": [],
   "source": []
  }
 ],
 "metadata": {
  "kernelspec": {
   "display_name": "Python 3",
   "language": "python",
   "name": "python3"
  },
  "language_info": {
   "codemirror_mode": {
    "name": "ipython",
    "version": 3
   },
   "file_extension": ".py",
   "mimetype": "text/x-python",
   "name": "python",
   "nbconvert_exporter": "python",
   "pygments_lexer": "ipython3",
   "version": "3.8.3"
  }
 },
 "nbformat": 4,
 "nbformat_minor": 4
}
