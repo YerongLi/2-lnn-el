{
 "cells": [
  {
   "cell_type": "code",
   "execution_count": 1,
   "metadata": {},
   "outputs": [],
   "source": [
    "import torch"
   ]
  },
  {
   "cell_type": "code",
   "execution_count": 21,
   "metadata": {},
   "outputs": [
    {
     "data": {
      "text/plain": [
       "tensor([[0.2715, 0.0164, 0.9672, 0.2272, 0.4178],\n",
       "        [0.7011, 0.0044, 0.5754, 0.7451, 0.1037],\n",
       "        [0.7430, 0.2073, 0.0167, 0.6639, 0.0560],\n",
       "        [0.3903, 0.7431, 0.3068, 0.7702, 0.8946]])"
      ]
     },
     "execution_count": 21,
     "metadata": {},
     "output_type": "execute_result"
    }
   ],
   "source": [
    "a = torch.rand((4, 5))\n",
    "a"
   ]
  },
  {
   "cell_type": "code",
   "execution_count": 18,
   "metadata": {},
   "outputs": [
    {
     "data": {
      "text/plain": [
       "tensor([[ True,  True, False,  True, False],\n",
       "        [ True,  True,  True,  True,  True],\n",
       "        [ True, False, False, False,  True],\n",
       "        [ True,  True, False,  True,  True]])"
      ]
     },
     "execution_count": 18,
     "metadata": {},
     "output_type": "execute_result"
    }
   ],
   "source": [
    "a > 0.2"
   ]
  },
  {
   "cell_type": "code",
   "execution_count": 19,
   "metadata": {},
   "outputs": [
    {
     "data": {
      "text/plain": [
       "tensor([[False, False,  True,  True, False],\n",
       "        [False, False,  True,  True,  True],\n",
       "        [ True, False,  True, False,  True],\n",
       "        [False, False, False,  True,  True]])"
      ]
     },
     "execution_count": 19,
     "metadata": {},
     "output_type": "execute_result"
    }
   ],
   "source": [
    "a > torch.Tensor([0.7, 0.9, 0.1, 0.2, 0.2])"
   ]
  },
  {
   "cell_type": "code",
   "execution_count": 20,
   "metadata": {},
   "outputs": [
    {
     "data": {
      "text/plain": [
       "tensor([[6.8726e-01, 0.0000e+00, 1.1499e-01, 0.0000e+00, 1.2892e-04],\n",
       "        [5.7696e-01, 0.0000e+00, 3.8653e-01, 0.0000e+00, 6.8048e-01],\n",
       "        [9.4968e-01, 0.0000e+00, 1.0972e-01, 0.0000e+00, 9.9686e-01],\n",
       "        [3.6701e-01, 0.0000e+00, 6.1057e-02, 0.0000e+00, 5.6744e-01]])"
      ]
     },
     "execution_count": 20,
     "metadata": {},
     "output_type": "execute_result"
    }
   ],
   "source": [
    "a * torch.Tensor([1, 0, 1, 0, 1])"
   ]
  },
  {
   "cell_type": "code",
   "execution_count": 24,
   "metadata": {},
   "outputs": [
    {
     "data": {
      "text/plain": [
       "tensor([[0.2272, 0.2715, 0.0164, 0.9672],\n",
       "        [0.7451, 0.7011, 0.0044, 0.5754],\n",
       "        [0.6639, 0.7430, 0.2073, 0.0167],\n",
       "        [0.7702, 0.3903, 0.7431, 0.3068]])"
      ]
     },
     "execution_count": 24,
     "metadata": {},
     "output_type": "execute_result"
    }
   ],
   "source": [
    "a[:, [3, 0, 1, 2]]"
   ]
  },
  {
   "cell_type": "code",
   "execution_count": 28,
   "metadata": {},
   "outputs": [
    {
     "data": {
      "text/plain": [
       "array([2.  , 2.25, 2.5 , 2.75, 3.  ])"
      ]
     },
     "execution_count": 28,
     "metadata": {},
     "output_type": "execute_result"
    }
   ],
   "source": [
    "import numpy as np\n",
    "np.linspace(2.0, 3.0, num=5)"
   ]
  },
  {
   "cell_type": "code",
   "execution_count": null,
   "metadata": {},
   "outputs": [],
   "source": []
  }
 ],
 "metadata": {
  "kernelspec": {
   "display_name": "Python 3",
   "language": "python",
   "name": "python3"
  },
  "language_info": {
   "codemirror_mode": {
    "name": "ipython",
    "version": 3
   },
   "file_extension": ".py",
   "mimetype": "text/x-python",
   "name": "python",
   "nbconvert_exporter": "python",
   "pygments_lexer": "ipython3",
   "version": "3.8.3"
  }
 },
 "nbformat": 4,
 "nbformat_minor": 4
}
