{
 "cells": [
  {
   "cell_type": "code",
   "execution_count": 1,
   "metadata": {},
   "outputs": [],
   "source": [
    "import torch"
   ]
  },
  {
   "cell_type": "code",
   "execution_count": 16,
   "metadata": {},
   "outputs": [],
   "source": [
    "from RuleLNN_nway_sigmoid_vec_type import *\n",
    "from run_el_kfolds_type import *"
   ]
  },
  {
   "cell_type": "code",
   "execution_count": 18,
   "metadata": {},
   "outputs": [
    {
     "data": {
      "text/plain": [
       "ComplexRuleLNN(\n",
       "  (pureNameRule): PureNameLNN(\n",
       "    (sim_disjunction_or): or_lukasiewicz(\n",
       "      (AND): and_lukasiewicz(\n",
       "        (cdd): cdd_lnn()\n",
       "      )\n",
       "    )\n",
       "    (predicate_and): and_lukasiewicz(\n",
       "      (cdd): cdd_lnn()\n",
       "    )\n",
       "  )\n",
       "  (contextRule): ContextLNN(\n",
       "    (sim_disjunction_or): or_lukasiewicz(\n",
       "      (AND): and_lukasiewicz(\n",
       "        (cdd): cdd_lnn()\n",
       "      )\n",
       "    )\n",
       "    (predicate_and): and_lukasiewicz(\n",
       "      (cdd): cdd_lnn()\n",
       "    )\n",
       "  )\n",
       "  (typeRule): TypeLNN(\n",
       "    (sim_disjunction_or): or_lukasiewicz(\n",
       "      (AND): and_lukasiewicz(\n",
       "        (cdd): cdd_lnn()\n",
       "      )\n",
       "    )\n",
       "    (predicate_and): and_lukasiewicz(\n",
       "      (cdd): cdd_lnn()\n",
       "    )\n",
       "  )\n",
       "  (rule_or): or_lukasiewicz(\n",
       "    (AND): and_lukasiewicz(\n",
       "      (cdd): cdd_lnn()\n",
       "    )\n",
       "  )\n",
       ")"
      ]
     },
     "execution_count": 18,
     "metadata": {},
     "output_type": "execute_result"
    }
   ],
   "source": [
    "bestModel = ComplexRuleLNN(0.9, -1, False)\n",
    "bestModel.load_state_dict(torch.load(\"checkpoint/best_model_exp_type_sigmoid_without_missing_0812.pt\"))\n",
    "bestModel.eval()"
   ]
  },
  {
   "cell_type": "code",
   "execution_count": 24,
   "metadata": {},
   "outputs": [
    {
     "data": {
      "text/plain": [
       "tensor([[0.1601, 1.2779, 0.5638, 1.0359]], grad_fn=<SliceBackward>)"
      ]
     },
     "execution_count": 24,
     "metadata": {},
     "output_type": "execute_result"
    }
   ],
   "source": [
    "torch.Tensor(bestModel.pureNameRule.threshold)"
   ]
  },
  {
   "cell_type": "code",
   "execution_count": 19,
   "metadata": {},
   "outputs": [
    {
     "name": "stdout",
     "output_type": "stream",
     "text": [
      "pureNameRule.threshold param -- data tensor([[0.1601, 1.2779, 0.5638, 1.0359]]) grad --  None\n",
      "pureNameRule.sim_disjunction_or.AND.param_arg_weights param -- data tensor([0.5974, 0.0887, 0.8354, 0.2982]) grad --  None\n",
      "pureNameRule.sim_disjunction_or.AND.param_beta param -- data tensor([1.1263]) grad --  None\n",
      "pureNameRule.sim_disjunction_or.AND.cdd.gamma param -- data tensor([[0.0476]]) grad --  None\n",
      "pureNameRule.sim_disjunction_or.AND.cdd.mu param -- data tensor([[0.8161, 0.7388, 0.8360, 0.9715, 0.2425]]) grad --  None\n",
      "pureNameRule.predicate_and.param_arg_weights param -- data tensor([0.3233, 0.6116]) grad --  None\n",
      "pureNameRule.predicate_and.param_beta param -- data tensor([0.6658]) grad --  None\n",
      "pureNameRule.predicate_and.cdd.gamma param -- data tensor([[0.3366]]) grad --  None\n",
      "pureNameRule.predicate_and.cdd.mu param -- data tensor([[0.7287, 0.4567, 0.5808]]) grad --  None\n",
      "contextRule.threshold param -- data tensor([ 0.0206,  0.6210, -0.0859,  0.4089]) grad --  None\n",
      "contextRule.context_threshold param -- data tensor([-0.2951]) grad --  None\n",
      "contextRule.sim_disjunction_or.AND.param_arg_weights param -- data tensor([ 0.5836, -0.0031,  0.7990, -0.0017]) grad --  None\n",
      "contextRule.sim_disjunction_or.AND.param_beta param -- data tensor([0.5419]) grad --  None\n",
      "contextRule.sim_disjunction_or.AND.cdd.gamma param -- data tensor([[0.1903]]) grad --  None\n",
      "contextRule.sim_disjunction_or.AND.cdd.mu param -- data tensor([[0.1260, 0.2812, 0.1177, 0.5583, 0.8498]]) grad --  None\n",
      "contextRule.predicate_and.param_arg_weights param -- data tensor([0.4798, 0.2068, 0.5386]) grad --  None\n",
      "contextRule.predicate_and.param_beta param -- data tensor([0.8145]) grad --  None\n",
      "contextRule.predicate_and.cdd.gamma param -- data tensor([[0.6335]]) grad --  None\n",
      "contextRule.predicate_and.cdd.mu param -- data tensor([[0.7473, 0.6148, 0.7431, 0.2857]]) grad --  None\n",
      "typeRule.threshold param -- data tensor([0.2706, 0.7663, 0.4034, 0.8593]) grad --  None\n",
      "typeRule.type_features_threshold param -- data tensor([-0.1074]) grad --  None\n",
      "typeRule.sim_disjunction_or.AND.param_arg_weights param -- data tensor([ 0.6348, -0.0033,  0.4998,  0.1009]) grad --  None\n",
      "typeRule.sim_disjunction_or.AND.param_beta param -- data tensor([0.4344]) grad --  None\n",
      "typeRule.sim_disjunction_or.AND.cdd.gamma param -- data tensor([[0.9767]]) grad --  None\n",
      "typeRule.sim_disjunction_or.AND.cdd.mu param -- data tensor([[0.5770, 0.0936, 0.4235, 0.8403, 0.0557]]) grad --  None\n",
      "typeRule.predicate_and.param_arg_weights param -- data tensor([0.8886, 1.0972, 0.6595]) grad --  None\n",
      "typeRule.predicate_and.param_beta param -- data tensor([0.7409]) grad --  None\n",
      "typeRule.predicate_and.cdd.gamma param -- data tensor([[0.4860]]) grad --  None\n",
      "typeRule.predicate_and.cdd.mu param -- data tensor([[0.9306, 0.6901, 0.2830, 0.3316]]) grad --  None\n",
      "rule_or.AND.param_arg_weights param -- data tensor([1.3364, 1.4012, 1.4915]) grad --  None\n",
      "rule_or.AND.param_beta param -- data tensor([1.0839]) grad --  None\n",
      "rule_or.AND.cdd.gamma param -- data tensor([[0.5266]]) grad --  None\n",
      "rule_or.AND.cdd.mu param -- data tensor([[0.5509, 0.6306, 0.6859, 0.6948]]) grad --  None\n"
     ]
    }
   ],
   "source": [
    "for name, param in bestModel.named_parameters():\n",
    "    if param.requires_grad:\n",
    "        print(name, 'param -- data', param.data, 'grad -- ', param.grad)"
   ]
  },
  {
   "cell_type": "code",
   "execution_count": null,
   "metadata": {},
   "outputs": [],
   "source": []
  },
  {
   "cell_type": "code",
   "execution_count": null,
   "metadata": {},
   "outputs": [],
   "source": [
    "## Thresholds "
   ]
  },
  {
   "cell_type": "code",
   "execution_count": 33,
   "metadata": {},
   "outputs": [
    {
     "data": {
      "text/plain": [
       "tensor([0.6225])"
      ]
     },
     "execution_count": 33,
     "metadata": {},
     "output_type": "execute_result"
    }
   ],
   "source": [
    "torch.sigmoid(torch.Tensor([0.5]))"
   ]
  },
  {
   "cell_type": "code",
   "execution_count": 12,
   "metadata": {},
   "outputs": [
    {
     "data": {
      "text/plain": [
       "tensor([0.5498])"
      ]
     },
     "execution_count": 12,
     "metadata": {},
     "output_type": "execute_result"
    }
   ],
   "source": [
    "torch.sigmoid(torch.Tensor([0.2]))"
   ]
  },
  {
   "cell_type": "code",
   "execution_count": 13,
   "metadata": {},
   "outputs": [
    {
     "data": {
      "text/plain": [
       "tensor([0.5622])"
      ]
     },
     "execution_count": 13,
     "metadata": {},
     "output_type": "execute_result"
    }
   ],
   "source": [
    "torch.sigmoid(torch.Tensor([0.25]))"
   ]
  },
  {
   "cell_type": "markdown",
   "metadata": {},
   "source": [
    "## PureName"
   ]
  },
  {
   "cell_type": "code",
   "execution_count": 46,
   "metadata": {},
   "outputs": [
    {
     "name": "stdout",
     "output_type": "stream",
     "text": [
      ">> PureName:  tensor([[0.5399, 0.7821, 0.6373, 0.7381]], grad_fn=<SigmoidBackward>)\n",
      ">> PureName weights:  tensor([0.5974, 0.0887, 0.8354, 0.2982], grad_fn=<ReluBackward0>)\n",
      ">> PureName:  tensor([1.1263], grad_fn=<SliceBackward>)\n",
      ">> PureName weights:  tensor([0.3233, 0.6116], grad_fn=<ReluBackward0>)\n",
      ">> PureName:  tensor([0.6658], grad_fn=<SliceBackward>)\n"
     ]
    }
   ],
   "source": [
    "print(\">> PureName: \", torch.sigmoid(torch.Tensor(bestModel.pureNameRule.threshold)))\n",
    "print(\">> PureName weights: \", torch.relu(torch.Tensor(bestModel.pureNameRule.sim_disjunction_or.AND.param_arg_weights)))\n",
    "print(\">> PureName: \", torch.Tensor(bestModel.pureNameRule.sim_disjunction_or.AND.param_beta))\n",
    "print(\">> PureName weights: \", torch.relu(torch.Tensor(bestModel.pureNameRule.predicate_and.param_arg_weights)))\n",
    "print(\">> PureName: \", torch.Tensor(bestModel.pureNameRule.predicate_and.param_beta))"
   ]
  },
  {
   "cell_type": "markdown",
   "metadata": {},
   "source": [
    "## Context"
   ]
  },
  {
   "cell_type": "code",
   "execution_count": 47,
   "metadata": {},
   "outputs": [
    {
     "name": "stdout",
     "output_type": "stream",
     "text": [
      ">> Context:  tensor([0.5051, 0.6504, 0.4785, 0.6008], grad_fn=<SigmoidBackward>)\n",
      ">> Context:  tensor([0.4268], grad_fn=<SigmoidBackward>)\n",
      ">> Context weights:  tensor([0.5836, 0.0000, 0.7990, 0.0000], grad_fn=<ReluBackward0>)\n",
      ">> Context:  tensor([0.5419], grad_fn=<SliceBackward>)\n",
      ">> Context weights:  tensor([0.4798, 0.2068, 0.5386], grad_fn=<ReluBackward0>)\n",
      ">> Context:  tensor([0.8145], grad_fn=<SliceBackward>)\n"
     ]
    }
   ],
   "source": [
    "print(\">> Context: \", torch.sigmoid(torch.Tensor(bestModel.contextRule.threshold)))\n",
    "print(\">> Context: \", torch.sigmoid(torch.Tensor(bestModel.contextRule.context_threshold)))\n",
    "print(\">> Context weights: \", torch.relu(torch.Tensor(bestModel.contextRule.sim_disjunction_or.AND.param_arg_weights)))\n",
    "print(\">> Context: \", torch.Tensor(bestModel.contextRule.sim_disjunction_or.AND.param_beta))\n",
    "print(\">> Context weights: \", torch.relu(torch.Tensor(bestModel.contextRule.predicate_and.param_arg_weights)))\n",
    "print(\">> Context: \", torch.Tensor(bestModel.contextRule.predicate_and.param_beta))"
   ]
  },
  {
   "cell_type": "markdown",
   "metadata": {},
   "source": [
    "## Type"
   ]
  },
  {
   "cell_type": "code",
   "execution_count": 48,
   "metadata": {},
   "outputs": [
    {
     "name": "stdout",
     "output_type": "stream",
     "text": [
      ">> Type:  tensor([0.5672, 0.6827, 0.5995, 0.7025], grad_fn=<SigmoidBackward>)\n",
      ">> Type:  tensor([0.4732], grad_fn=<SigmoidBackward>)\n",
      ">> Type weights:  tensor([0.6348, 0.0000, 0.4998, 0.1009], grad_fn=<ReluBackward0>)\n",
      ">> Type:  tensor([0.4344], grad_fn=<SliceBackward>)\n",
      ">> Type weights:  tensor([0.8886, 1.0972, 0.6595], grad_fn=<ReluBackward0>)\n",
      ">> Type:  tensor([0.7409], grad_fn=<SliceBackward>)\n"
     ]
    }
   ],
   "source": [
    "print(\">> Type: \", torch.sigmoid(torch.Tensor(bestModel.typeRule.threshold)))\n",
    "print(\">> Type: \", torch.sigmoid(torch.Tensor(bestModel.typeRule.type_features_threshold)))\n",
    "print(\">> Type weights: \", torch.relu(torch.Tensor(bestModel.typeRule.sim_disjunction_or.AND.param_arg_weights)))\n",
    "print(\">> Type: \", torch.Tensor(bestModel.typeRule.sim_disjunction_or.AND.param_beta))\n",
    "print(\">> Type weights: \", torch.relu(torch.Tensor(bestModel.typeRule.predicate_and.param_arg_weights)))\n",
    "print(\">> Type: \", torch.Tensor(bestModel.typeRule.predicate_and.param_beta))"
   ]
  },
  {
   "cell_type": "markdown",
   "metadata": {},
   "source": [
    "## Complex"
   ]
  },
  {
   "cell_type": "code",
   "execution_count": 51,
   "metadata": {},
   "outputs": [
    {
     "name": "stdout",
     "output_type": "stream",
     "text": [
      ">> Complex:  tensor([1.3364, 1.4012, 1.4915], grad_fn=<ReluBackward0>)\n",
      ">> Type:  tensor([0.7472], grad_fn=<SigmoidBackward>)\n"
     ]
    }
   ],
   "source": [
    "print(\">> Complex: \", torch.relu(torch.Tensor(bestModel.rule_or.AND.param_arg_weights)))\n",
    "print(\">> Type: \", torch.sigmoid(torch.Tensor(bestModel.rule_or.AND.param_beta)))"
   ]
  },
  {
   "cell_type": "code",
   "execution_count": null,
   "metadata": {},
   "outputs": [],
   "source": []
  },
  {
   "cell_type": "code",
   "execution_count": null,
   "metadata": {},
   "outputs": [],
   "source": []
  },
  {
   "cell_type": "code",
   "execution_count": 25,
   "metadata": {},
   "outputs": [
    {
     "data": {
      "text/plain": [
       "tensor([[0.5399, 0.7821, 0.6373, 0.7381]], grad_fn=<SigmoidBackward>)"
      ]
     },
     "execution_count": 25,
     "metadata": {},
     "output_type": "execute_result"
    }
   ],
   "source": [
    "# purename\n",
    "torch.sigmoid(torch.Tensor(bestModel.pureNameRule.threshold))"
   ]
  },
  {
   "cell_type": "code",
   "execution_count": 5,
   "metadata": {},
   "outputs": [
    {
     "data": {
      "text/plain": [
       "tensor([0.5970, 0.6198, 0.4384, 0.5984])"
      ]
     },
     "execution_count": 5,
     "metadata": {},
     "output_type": "execute_result"
    }
   ],
   "source": [
    "# context\n",
    "torch.sigmoid(torch.Tensor([0.3928,  0.4885, -0.2478,  0.3990]))"
   ]
  },
  {
   "cell_type": "code",
   "execution_count": 6,
   "metadata": {},
   "outputs": [
    {
     "data": {
      "text/plain": [
       "tensor([0.3970])"
      ]
     },
     "execution_count": 6,
     "metadata": {},
     "output_type": "execute_result"
    }
   ],
   "source": [
    "# context\n",
    "torch.sigmoid(torch.Tensor([-0.4180]))"
   ]
  },
  {
   "cell_type": "code",
   "execution_count": null,
   "metadata": {},
   "outputs": [],
   "source": [
    "## Weights"
   ]
  },
  {
   "cell_type": "code",
   "execution_count": 8,
   "metadata": {},
   "outputs": [
    {
     "data": {
      "text/plain": [
       "tensor([1.2147, 0.2402, 0.2379, 0.0000])"
      ]
     },
     "execution_count": 8,
     "metadata": {},
     "output_type": "execute_result"
    }
   ],
   "source": [
    "# purename OR\n",
    "torch.relu(torch.Tensor([ 1.2147,  0.2402,  0.2379, -0.0016]))"
   ]
  },
  {
   "cell_type": "code",
   "execution_count": 9,
   "metadata": {},
   "outputs": [
    {
     "data": {
      "text/plain": [
       "tensor([0.7952, 0.7334])"
      ]
     },
     "execution_count": 9,
     "metadata": {},
     "output_type": "execute_result"
    }
   ],
   "source": [
    "# purename AND \n",
    "torch.relu(torch.Tensor([0.7952, 0.7334]))"
   ]
  },
  {
   "cell_type": "code",
   "execution_count": 10,
   "metadata": {},
   "outputs": [
    {
     "data": {
      "text/plain": [
       "tensor([0.0000, 0.0000, 1.2711, 0.0000])"
      ]
     },
     "execution_count": 10,
     "metadata": {},
     "output_type": "execute_result"
    }
   ],
   "source": [
    "# context OR\n",
    "torch.relu(torch.Tensor([-9.2569e-04, -9.5747e-05,  1.2711e+00, -6.0086e-04]))"
   ]
  },
  {
   "cell_type": "code",
   "execution_count": 11,
   "metadata": {},
   "outputs": [
    {
     "data": {
      "text/plain": [
       "tensor([0.1549, 1.4567, 0.6724])"
      ]
     },
     "execution_count": 11,
     "metadata": {},
     "output_type": "execute_result"
    }
   ],
   "source": [
    "# context AND \n",
    "torch.relu(torch.Tensor([0.1549, 1.4567, 0.6724]))"
   ]
  },
  {
   "cell_type": "code",
   "execution_count": null,
   "metadata": {},
   "outputs": [],
   "source": []
  },
  {
   "cell_type": "raw",
   "metadata": {},
   "source": [
    "# previous complex model with PureName + Context\n",
    "pureNameRule.threshold param -- data tensor([[0.4489, 1.1039, 0.5499, 0.5340]]) grad --  tensor([[-0.0073, -0.0016, -0.0041,  0.0000]])\n",
    "pureNameRule.sim_disjunction_or.AND.param_arg_weights param -- data tensor([ 1.2147,  0.2402,  0.2379, -0.0016]) grad --  tensor([0.0503, 0.0633, 0.1510, 0.0000])\n",
    "pureNameRule.sim_disjunction_or.AND.param_beta param -- data tensor([1.0035]) grad --  tensor([-0.5079])\n",
    "pureNameRule.sim_disjunction_or.AND.cdd.gamma param -- data tensor([[0.1401]]) grad --  None\n",
    "pureNameRule.sim_disjunction_or.AND.cdd.mu param -- data tensor([[0.0425, 0.2145, 0.3197, 0.6295, 0.1441]]) grad --  None\n",
    "pureNameRule.predicate_and.param_arg_weights param -- data tensor([0.7952, 0.7334]) grad --  tensor([-0.3343, -0.5439])\n",
    "pureNameRule.predicate_and.param_beta param -- data tensor([1.0177]) grad --  tensor([0.8645])\n",
    "pureNameRule.predicate_and.cdd.gamma param -- data tensor([[0.4103]]) grad --  None\n",
    "pureNameRule.predicate_and.cdd.mu param -- data tensor([[0.5926, 0.2117, 0.7029]]) grad --  None\n",
    "contextRule.threshold param -- data tensor([ 0.3928,  0.4885, -0.2478,  0.3990]) grad --  tensor([ 0.0000,  0.0000, -0.0206,  0.0000])\n",
    "contextRule.context_threshold param -- data tensor([-0.4180]) grad --  tensor([-0.0207])\n",
    "contextRule.sim_disjunction_or.AND.param_arg_weights param -- data tensor([-9.2569e-04, -9.5747e-05,  1.2711e+00, -6.0086e-04]) grad --  tensor([0.0000, 0.0000, 0.1343, 0.0000])\n",
    "contextRule.sim_disjunction_or.AND.param_beta param -- data tensor([0.3514]) grad --  tensor([-0.5478])\n",
    "contextRule.sim_disjunction_or.AND.cdd.gamma param -- data tensor([[0.6964]]) grad --  None\n",
    "contextRule.sim_disjunction_or.AND.cdd.mu param -- data tensor([[0.2050, 0.9103, 0.2325, 0.3865, 0.3941]]) grad --  None\n",
    "contextRule.predicate_and.param_arg_weights param -- data tensor([0.1549, 1.4567, 0.6724]) grad --  tensor([-0.2379, -0.0173, -0.2685])\n",
    "contextRule.predicate_and.param_beta param -- data tensor([0.7409]) grad --  tensor([0.6218])\n",
    "contextRule.predicate_and.cdd.gamma param -- data tensor([[0.9929]]) grad --  None\n",
    "contextRule.predicate_and.cdd.mu param -- data tensor([[0.7502, 0.8643, 0.9196, 0.9581]]) grad --  None\n",
    "rule_or.AND.param_arg_weights param -- data tensor([1.9079, 1.3718]) grad --  tensor([0.1136, 0.1598])\n",
    "rule_or.AND.param_beta param -- data tensor([1.1454]) grad --  tensor([-0.5433])\n",
    "rule_or.AND.cdd.gamma param -- data tensor([[0.8300]]) grad --  None\n",
    "rule_or.AND.cdd.mu param -- data tensor([[0.1015, 0.1304, 0.8140]]) grad --  None\n"
   ]
  }
 ],
 "metadata": {
  "kernelspec": {
   "display_name": "Python 3",
   "language": "python",
   "name": "python3"
  },
  "language_info": {
   "codemirror_mode": {
    "name": "ipython",
    "version": 3
   },
   "file_extension": ".py",
   "mimetype": "text/x-python",
   "name": "python",
   "nbconvert_exporter": "python",
   "pygments_lexer": "ipython3",
   "version": "3.8.3"
  }
 },
 "nbformat": 4,
 "nbformat_minor": 4
}
