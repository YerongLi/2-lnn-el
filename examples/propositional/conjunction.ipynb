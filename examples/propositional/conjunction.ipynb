{
 "cells": [
  {
   "cell_type": "code",
   "execution_count": 11,
   "metadata": {},
   "outputs": [],
   "source": [
    "import os\n",
    "import sys\n",
    "from tqdm import tqdm\n",
    "sys.path.append('../../src/meta_rule/')\n",
    "sys.path.append('../../')"
   ]
  },
  {
   "cell_type": "code",
   "execution_count": 12,
   "metadata": {},
   "outputs": [
    {
     "name": "stdout",
     "output_type": "stream",
     "text": [
      "\n",
      "converged at epoch 3\n",
      "loss: 2.0 \n",
      "loss_terms: tensor([2., 0.]) \n",
      "inference converged: True \n",
      "weights converged: True \n",
      "bounds tightened: tensor([0.0000, 0.0116])\n",
      "And\n",
      "() True tensor([1.0000, 0.9097], grad_fn=<StackBackward>) \n",
      "weights: tensor([1., 1., 1., 1., 1., 1., 1., 0., 0., 1.], requires_grad=True)\n",
      "9\n",
      "() True tensor([1.0000, 0.9091], grad_fn=<StackBackward>) \n",
      "8\n",
      "() Contradiction tensor([1., 0.], grad_fn=<StackBackward>) \n",
      "7\n",
      "() Contradiction tensor([1., 0.], grad_fn=<StackBackward>) \n",
      "6\n",
      "() True tensor([1.0000, 0.9091], grad_fn=<StackBackward>) \n",
      "5\n",
      "() True tensor([1.0000, 0.9091], grad_fn=<StackBackward>) \n",
      "4\n",
      "() True tensor([1.0000, 0.9091], grad_fn=<StackBackward>) \n",
      "3\n",
      "() True tensor([1.0000, 0.9091], grad_fn=<StackBackward>) \n",
      "2\n",
      "() True tensor([1.0000, 0.9091], grad_fn=<StackBackward>) \n",
      "1\n",
      "() True tensor([1.0000, 0.9091], grad_fn=<StackBackward>) \n",
      "0\n",
      "() True tensor([1.0000, 0.9091], grad_fn=<StackBackward>) \n",
      "\n",
      "success\n"
     ]
    }
   ],
   "source": [
    "# Simple exclusion test to show how the LNN does self-supervised learning on a conjunction neuron\n",
    "\n",
    "from lnn import LNN, Formula, And\n",
    "import torch\n",
    "\n",
    "model = LNN(alpha=0.5, propositional=True, learning=True)\n",
    "n, f = 10, 2 # (number of True inputs, rand number of False inputs)\n",
    "f = torch.randint(1, n, (f,))\n",
    "\n",
    "props = torch.stack([Formula.true()]*n)\n",
    "props[f] = Formula.false()\n",
    "op = Formula.true()\n",
    "op_target = Formula.true()\n",
    "\n",
    "for i in range(len(props)):\n",
    "    model[str(i)][()] = props[i]\n",
    "prop_str = list(map(str, list(range(len(props)))))\n",
    "model['And'] = And(*prop_str, lnn=model)\n",
    "model['And'][()] = op\n",
    "\n",
    "print_graph = lambda model: model.downward(func='print_graph', weights=True) # print the entire graph + neuron weights\n",
    "\n",
    "# coefficients flags [unsupervised (contradictions), supervised (targets)]\n",
    "model.train(coefficients=torch.tensor([1., 0.])) \n",
    "\n",
    "# uncomment below to see graph updates at print_epoch, as the network trains\n",
    "# model.train(print_epoch=1, verbose=True, prediction_fn=print_graph, coefficients=torch.tensor([1., 0.])) \n",
    "\n",
    "print_graph(model)\n",
    "\n",
    "success = True\n",
    "if str(model['And'].state()) != 'True':\n",
    "    for i in range(len(props)):\n",
    "        if model[str(i)].state() != str(bool((model['And'].weights[i]).round())):\n",
    "            success = False\n",
    "            print(i, model[str(i)].state(), '!=', str(bool((model['And'].weights[i]).round())))\n",
    "if success: print('\\nsuccess')"
   ]
  },
  {
   "cell_type": "code",
   "execution_count": null,
   "metadata": {},
   "outputs": [],
   "source": []
  }
 ],
 "metadata": {
  "kernelspec": {
   "display_name": "Python 3",
   "language": "python",
   "name": "python3"
  },
  "language_info": {
   "codemirror_mode": {
    "name": "ipython",
    "version": 3
   },
   "file_extension": ".py",
   "mimetype": "text/x-python",
   "name": "python",
   "nbconvert_exporter": "python",
   "pygments_lexer": "ipython3",
   "version": "3.8.3"
  }
 },
 "nbformat": 4,
 "nbformat_minor": 4
}
