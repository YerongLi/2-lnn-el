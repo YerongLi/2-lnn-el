{
 "cells": [
  {
   "cell_type": "code",
   "execution_count": 1,
   "metadata": {},
   "outputs": [],
   "source": [
    "import os\n",
    "import sys\n",
    "module_path = os.path.abspath(os.path.join('..'))\n",
    "if module_path not in sys.path:\n",
    "    sys.path.append(module_path)"
   ]
  },
  {
   "cell_type": "code",
   "execution_count": 2,
   "metadata": {},
   "outputs": [
    {
     "name": "stdout",
     "output_type": "stream",
     "text": [
      "\n",
      "converged at epoch 4\n",
      "loss: 3.0 \n",
      "loss_terms: tensor([3., 0.]) \n",
      "inference converged: True \n",
      "weights converged: True \n",
      "bounds tightened: tensor([0.0110, 0.0000])\n",
      "Or\n",
      "() False tensor([0.0903, 0.0000], grad_fn=<StackBackward>) \n",
      "weights: tensor([1., 1., 1., 0., 1., 0., 1., 1., 1., 0.], requires_grad=True)\n",
      "9\n",
      "() Contradiction tensor([1., 0.], grad_fn=<StackBackward>) \n",
      "8\n",
      "() False tensor([0.0909, 0.0000], grad_fn=<StackBackward>) \n",
      "7\n",
      "() False tensor([0.0909, 0.0000], grad_fn=<StackBackward>) \n",
      "6\n",
      "() False tensor([0.0909, 0.0000], grad_fn=<StackBackward>) \n",
      "5\n",
      "() Contradiction tensor([1., 0.], grad_fn=<StackBackward>) \n",
      "4\n",
      "() False tensor([0.0909, 0.0000], grad_fn=<StackBackward>) \n",
      "3\n",
      "() Contradiction tensor([1., 0.], grad_fn=<StackBackward>) \n",
      "2\n",
      "() False tensor([0.0909, 0.0000], grad_fn=<StackBackward>) \n",
      "1\n",
      "() False tensor([0.0909, 0.0000], grad_fn=<StackBackward>) \n",
      "0\n",
      "() False tensor([0.0909, 0.0000], grad_fn=<StackBackward>) \n",
      "\n",
      "success\n"
     ]
    }
   ],
   "source": [
    "from lnn import LNN, Formula, Or\n",
    "import torch\n",
    "\n",
    "model = LNN(alpha=0.5, learning=True) # minimum global alpha\n",
    "n, f = 10, 3\n",
    "f = torch.randint(1, n, (f,)) # randomise false indices\n",
    "props = torch.stack([Formula.false()]*n) # gather true arguments\n",
    "props[f] = Formula.true() # set false arguments\n",
    "\n",
    "# loading facts and rules\n",
    "for i in range(len(props)):\n",
    "    model[str(i)][()] = props[i] # initialise bound truths\n",
    "prop_str = list(map(str, list(range(len(props))))) # arguments as list of strings\n",
    "model['Or'] = Or(*prop_str, lnn=model) # unpack proposition arguments \n",
    "model['Or'][()] = Formula.false()  # initialise the disjunction proposition and set rule to True\n",
    "\n",
    "print_graph = lambda model: model.downward(func='print_graph', weights=True) # print the entire graph + neuron weights\n",
    "\n",
    "# coefficients flags [unsupervised (contradictions), supervised (targets)]\n",
    "model.train(coefficients=torch.tensor([1., 0.])) \n",
    "\n",
    "# uncomment below to see graph updates at print_epoch, as the network trains\n",
    "# model.train(print_epoch=1, verbose=True, prediction_fn=print_graph, coefficients=torch.tensor([1., 0.])) \n",
    "\n",
    "print_graph(model)\n",
    "\n",
    "# evaluate model\n",
    "success = True\n",
    "if str(model['Or'].state()) != 'False':\n",
    "    for i in range(len(props)):\n",
    "        if model[str(i)].state() != str(bool((model['Or'].weights[i]).round())):\n",
    "            success = False\n",
    "            print(i, lnn[str(i)].state(), '!=', str(bool((lnn['Or'].weights[i]).round())))\n",
    "if success: print('\\nsuccess')"
   ]
  }
 ],
 "metadata": {
  "kernelspec": {
   "display_name": "Python 3",
   "language": "python",
   "name": "python3"
  },
  "language_info": {
   "codemirror_mode": {
    "name": "ipython",
    "version": 3
   },
   "file_extension": ".py",
   "mimetype": "text/x-python",
   "name": "python",
   "nbconvert_exporter": "python",
   "pygments_lexer": "ipython3",
   "version": "3.7.5"
  }
 },
 "nbformat": 4,
 "nbformat_minor": 2
}
